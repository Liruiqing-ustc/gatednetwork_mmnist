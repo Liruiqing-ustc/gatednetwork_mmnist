{
 "cells": [
  {
   "cell_type": "code",
   "execution_count": 1,
   "metadata": {
    "collapsed": true
   },
   "outputs": [],
   "source": [
    "# ALL IMPORTS\n",
    "import os\n",
    "import numpy as np\n",
    "import matplotlib.pyplot as plt\n",
    "from matplotlib import cm\n",
    "import matplotlib.patches as mpatches\n",
    "import tensorflow as tf\n",
    "import random\n",
    "from random import randint\n",
    "from random import shuffle\n",
    "import librosa\n",
    "import pickle\n",
    "\n",
    "random.seed(42)\n",
    "\n",
    "def reset_graph(seed=42):\n",
    "    tf.reset_default_graph()\n",
    "    tf.set_random_seed(seed)\n",
    "    np.random.seed(seed)\n",
    "\n",
    "reset_graph()"
   ]
  },
  {
   "cell_type": "code",
   "execution_count": 2,
   "metadata": {
    "collapsed": true
   },
   "outputs": [],
   "source": [
    "Training_Data = pickle.load(open('Training_MMNIST.p', mode='rb'))\n",
    "Validation_Data = pickle.load(open('Validation_MMNIST.p', mode='rb'))\n",
    "\n",
    "trainData_text, trainData_label = Training_Data[2], Training_Data[4]\n",
    "validData_text, validData_label = Validation_Data[2], Validation_Data[4]\n"
   ]
  },
  {
   "cell_type": "code",
   "execution_count": 36,
   "metadata": {},
   "outputs": [
    {
     "name": "stdout",
     "output_type": "stream",
     "text": [
      "pyramidal time lucky\n",
      "3\n",
      "A bunch of ninth\n",
      "9\n",
      "octadic column\n",
      "8\n"
     ]
    }
   ],
   "source": [
    "print(validData_text[0])\n",
    "print(validData_label[0])\n",
    "\n",
    "print(validData_text[1])\n",
    "print(validData_label[1])\n",
    "\n",
    "print(validData_text[2])\n",
    "print(validData_label[2])"
   ]
  },
  {
   "cell_type": "code",
   "execution_count": 24,
   "metadata": {},
   "outputs": [
    {
     "name": "stdout",
     "output_type": "stream",
     "text": [
      "(20116, 129)\n",
      "(3549, 129)\n"
     ]
    }
   ],
   "source": [
    "from sklearn.svm import LinearSVC\n",
    "from sklearn import datasets, svm, metrics\n",
    "\n",
    "from sklearn.metrics import accuracy_score\n",
    "from sklearn.feature_extraction.text import TfidfVectorizer\n",
    "\n",
    "# Transform each text into a vector of word counts\n",
    "# Set the max features here to tune for accuracy. TODO: CYCLE THROUGH FOR AUTOMATIC PROCEDURE\n",
    "maxFeatures = 129\n",
    "vectorizer = TfidfVectorizer(stop_words=\"english\", max_features=maxFeatures,\n",
    "                             ngram_range=(1, 2))\n",
    "\n",
    "training_features = vectorizer.fit_transform(trainData_text)    \n",
    "test_features = vectorizer.transform(validData_text)\n",
    "print(np.shape(training_features))\n",
    "print(np.shape(test_features))"
   ]
  },
  {
   "cell_type": "code",
   "execution_count": 25,
   "metadata": {},
   "outputs": [
    {
     "name": "stdout",
     "output_type": "stream",
     "text": [
      "Training accuracy: 81.1444\n",
      "Validation accuracy: 81.3469\n"
     ]
    }
   ],
   "source": [
    "\n",
    "# Training\n",
    "model = svm.SVC(kernel='linear', probability=True)\n",
    "model.fit(training_features, trainData_label)\n",
    "\n",
    "ty_pred = model.predict(training_features)\n",
    "y_pred = model.predict(test_features)\n",
    "\n",
    "\n",
    "tacc_10_svc = accuracy_score(trainData_label, ty_pred)\n",
    "print(\"Training accuracy: {:.4f}\".format(tacc_10_svc*100))\n",
    "\n",
    "acc = accuracy_score(validData_label, y_pred)\n",
    "print(\"Validation accuracy: {:.4f}\".format(acc*100))\n",
    "\n",
    "train_proba = model.predict_proba(training_features)\n",
    "valid_proba = model.predict_proba(test_features)\n"
   ]
  },
  {
   "cell_type": "code",
   "execution_count": null,
   "metadata": {
    "collapsed": true
   },
   "outputs": [],
   "source": [
    "\n",
    "\"\"\"\n",
    "# 112\n",
    "Training accuracy: 70.5061\n",
    "Validation accuracy: 71.1750\n",
    "\n",
    "# 131\n",
    "Training accuracy: 81.1444\n",
    "Validation accuracy: 81.3469\n",
    "\n",
    "# max\n",
    "Training accuracy: 88.2929\n",
    "Validation accuracy: 88.8701\n",
    "\"\"\""
   ]
  },
  {
   "cell_type": "code",
   "execution_count": 26,
   "metadata": {
    "collapsed": true
   },
   "outputs": [],
   "source": [
    "saveNewData = False\n",
    "if(saveNewData):\n",
    "    pickle.dump((train_proba, trainData_label), open('TC_Training_0.8.p', 'wb'))\n",
    "    pickle.dump((valid_proba, validData_label), open('TC_Validation_0.8.p', 'wb'))\n",
    "            "
   ]
  },
  {
   "cell_type": "code",
   "execution_count": 37,
   "metadata": {},
   "outputs": [
    {
     "name": "stdout",
     "output_type": "stream",
     "text": [
      "Accuracy of TC 0.7\n",
      "trainAcc 0.700984291111553\n",
      "validAcc 0.7083685545224007\n",
      "\n",
      "Accuracy of TC 0.8\n",
      "trainAcc 0.811443626963611\n",
      "validAcc 0.813468582699352\n",
      "\n",
      "Accuracy of TC 0.9\n",
      "trainAcc 0.8829290117319547\n",
      "validAcc 0.8887010425471964\n",
      "\n"
     ]
    }
   ],
   "source": [
    "def confirmAccuracy(per):\n",
    "    print(\"Accuracy of TC\",per)\n",
    "    \n",
    "    td, tl = pickle.load(open('TC_Training_'+per+'.p', mode='rb'))\n",
    "    vd, vl = pickle.load(open('TC_Validation_'+per+'.p', mode='rb'))\n",
    "    \n",
    "    tcnt = 0\n",
    "    for i in range(len(td)):\n",
    "        if(np.argmax(td[i]) == tl[i]):\n",
    "            tcnt += 1\n",
    "    print(\"trainAcc\",tcnt/len(td))\n",
    "    vcnt = 0\n",
    "    for i in range(len(vd)):\n",
    "        if(np.argmax(vd[i]) == vl[i]):\n",
    "            vcnt += 1\n",
    "    print(\"validAcc\",vcnt/len(vd))\n",
    "    print(\"\")\n",
    "\n",
    "    \n",
    "confirmAccuracy(\"0.7\")    \n",
    "confirmAccuracy(\"0.8\")    \n",
    "confirmAccuracy(\"0.9\")"
   ]
  },
  {
   "cell_type": "code",
   "execution_count": null,
   "metadata": {
    "collapsed": true
   },
   "outputs": [],
   "source": []
  },
  {
   "cell_type": "code",
   "execution_count": null,
   "metadata": {
    "collapsed": true
   },
   "outputs": [],
   "source": []
  },
  {
   "cell_type": "code",
   "execution_count": null,
   "metadata": {
    "collapsed": true
   },
   "outputs": [],
   "source": []
  },
  {
   "cell_type": "code",
   "execution_count": null,
   "metadata": {
    "collapsed": true
   },
   "outputs": [],
   "source": []
  },
  {
   "cell_type": "code",
   "execution_count": null,
   "metadata": {
    "collapsed": true
   },
   "outputs": [],
   "source": []
  },
  {
   "cell_type": "code",
   "execution_count": null,
   "metadata": {
    "collapsed": true
   },
   "outputs": [],
   "source": []
  },
  {
   "cell_type": "code",
   "execution_count": null,
   "metadata": {
    "collapsed": true
   },
   "outputs": [],
   "source": []
  },
  {
   "cell_type": "code",
   "execution_count": null,
   "metadata": {
    "collapsed": true
   },
   "outputs": [],
   "source": []
  },
  {
   "cell_type": "code",
   "execution_count": null,
   "metadata": {
    "collapsed": true
   },
   "outputs": [],
   "source": []
  },
  {
   "cell_type": "code",
   "execution_count": null,
   "metadata": {
    "collapsed": true
   },
   "outputs": [],
   "source": []
  },
  {
   "cell_type": "code",
   "execution_count": null,
   "metadata": {
    "collapsed": true
   },
   "outputs": [],
   "source": []
  },
  {
   "cell_type": "code",
   "execution_count": null,
   "metadata": {
    "collapsed": true
   },
   "outputs": [],
   "source": []
  },
  {
   "cell_type": "code",
   "execution_count": null,
   "metadata": {
    "collapsed": true
   },
   "outputs": [],
   "source": []
  }
 ],
 "metadata": {
  "kernelspec": {
   "display_name": "Python 3",
   "language": "python",
   "name": "python3"
  },
  "language_info": {
   "codemirror_mode": {
    "name": "ipython",
    "version": 3
   },
   "file_extension": ".py",
   "mimetype": "text/x-python",
   "name": "python",
   "nbconvert_exporter": "python",
   "pygments_lexer": "ipython3",
   "version": "3.5.4"
  }
 },
 "nbformat": 4,
 "nbformat_minor": 2
}
