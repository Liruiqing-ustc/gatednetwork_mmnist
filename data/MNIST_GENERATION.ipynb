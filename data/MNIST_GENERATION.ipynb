{
 "cells": [
  {
   "cell_type": "code",
   "execution_count": 1,
   "metadata": {
    "collapsed": true
   },
   "outputs": [],
   "source": [
    "# ALL IMPORTS\n",
    "import os\n",
    "import numpy as np\n",
    "import matplotlib.pyplot as plt\n",
    "from matplotlib import cm\n",
    "import matplotlib.patches as mpatches\n",
    "import tensorflow as tf\n",
    "import random\n",
    "from random import randint\n",
    "from random import shuffle\n",
    "import librosa\n",
    "import pickle\n",
    "\n",
    "random.seed(42)\n",
    "\n",
    "def reset_graph(seed=42):\n",
    "    tf.reset_default_graph()\n",
    "    tf.set_random_seed(seed)\n",
    "    np.random.seed(seed)\n",
    "\n",
    "reset_graph()\n"
   ]
  },
  {
   "cell_type": "code",
   "execution_count": 2,
   "metadata": {},
   "outputs": [
    {
     "name": "stdout",
     "output_type": "stream",
     "text": [
      "training samples\n",
      "20116\n",
      "validation samples\n",
      "3549\n"
     ]
    }
   ],
   "source": [
    "# IMPORT AUDIO FILES AND MATCH LABELS/MNIST DATA TO EACH SAMPLE\n",
    "Training_Data, Training_Label = pickle.load(open('preprocessedAudio_Training_MNIST.p', mode='rb'))\n",
    "Validation_Data, Validation_Label = pickle.load(open('preprocessedAudio_Validation_MNIST.p', mode='rb'))\n",
    "print(\"training samples\")\n",
    "print(len(Training_Data))\n",
    "print(\"validation samples\")\n",
    "print(len(Validation_Data))"
   ]
  },
  {
   "cell_type": "code",
   "execution_count": 3,
   "metadata": {},
   "outputs": [
    {
     "name": "stdout",
     "output_type": "stream",
     "text": [
      "          ['    0', '    1', '    2', '    3', '    4', '    5', '    6', '    7', '    8', '    9']\n",
      "Training  ['10.05%', '10.14%', '10.08%', '9.92%', '10.01%', '9.95%', '10.01%', '9.87%', '9.94%', '10.05%']\n",
      "Validation ['9.33%', '8.96%', '9.72%', '10.40%', '10.06%', '10.57%', '10.03%', '10.43%', '10.54%', '9.97%']\n"
     ]
    },
    {
     "data": {
      "image/png": "[encoded data removed]",
      "text/plain": [
       "<matplotlib.figure.Figure at 0x1d5a1da1d30>"
      ]
     },
     "metadata": {},
     "output_type": "display_data"
    }
   ],
   "source": [
    "\n",
    "### Create graph for class distribution\n",
    "print(\"         \",['    {:}'.format(i) for i in range(0,10)] )\n",
    "\n",
    "newPercData = np.divide(np.sum(Training_Label, axis=0),len(Training_Label))*100\n",
    "a = [float('{:.2f}'.format(i)) for i in newPercData] \n",
    "print(\"Training \",['{:.2f}%'.format(i) for i in newPercData] )\n",
    "\n",
    "newPercData = np.divide(np.sum(Validation_Label, axis=0),len(Validation_Label))*100\n",
    "print(\"Validation\",['{:.2f}%'.format(i) for i in newPercData] )\n",
    "b = [float('{:.2f}'.format(i)) for i in newPercData] \n",
    "\n",
    "x = np.arange(10)\n",
    "plt.bar(x, height= a, alpha=0.9, color='b') \n",
    "plt.bar(x, height= b, alpha=0.4, color='r') \n",
    "plt.xticks(x, np.arange(10)) # no need to add .5 anymore\n",
    "\n",
    "yn = np.arange(5,11)\n",
    "plt.yticks(yn, np.arange(5,11)) # no need to add .5 anymore\n",
    "\n",
    "plt.title('Class distribution')\n",
    "plt.xlabel('Labels')\n",
    "plt.ylabel('Percentage ')\n",
    "\n",
    "blue = mpatches.Patch(color='blue', label='Difference in Training set')\n",
    "red = mpatches.Patch(color='lightcoral', label='Difference in Validation set')\n",
    "\n",
    "plt.legend(handles=[blue,red], loc=4)\n",
    "plt.gca().set_yticklabels(['{:.0f}%'.format(x*1) for x in plt.gca().get_yticks()]) \n",
    "#plt.legend(bbox_to_anchor=(1.05, 1), loc=1, borderaxespad=0.)\n",
    "plt.show()\n",
    "# Get percentages\n"
   ]
  },
  {
   "cell_type": "code",
   "execution_count": null,
   "metadata": {},
   "outputs": [],
   "source": []
  },
  {
   "cell_type": "code",
   "execution_count": 4,
   "metadata": {},
   "outputs": [
    {
     "name": "stdout",
     "output_type": "stream",
     "text": [
      "Extracting /tmp/data/train-images-idx3-ubyte.gz\n",
      "Extracting /tmp/data/train-labels-idx1-ubyte.gz\n",
      "Extracting /tmp/data/t10k-images-idx3-ubyte.gz\n",
      "Extracting /tmp/data/t10k-labels-idx1-ubyte.gz\n",
      "Matching labels done\n"
     ]
    }
   ],
   "source": [
    "# FIND MATCHING MNIST IMAGES\n",
    "# DOWNLOAD MNIST FROM TENSORFLOW\n",
    "from tensorflow.examples.tutorials.mnist import input_data as mnist_data\n",
    "mnist = mnist_data.read_data_sets(\"/tmp/data/\", one_hot=True)\n",
    "\n",
    "# MATCH A RANDOM LABEL FROM MNIST TO AUDIO LABEL\n",
    "mnist_fit_audio_train = []\n",
    "mnist_fit_audio_valid = []\n",
    "train_used_indexes = []\n",
    "\n",
    "\n",
    "mnist_fit_audio_train_l = []\n",
    "mnist_fit_audio_valid_l = []\n",
    "valid_used_indexes = []\n",
    "\n",
    "\n",
    "for i in range(len(Training_Label)):\n",
    "    \n",
    "    label_to_find = np.argmax(Training_Label[i])\n",
    "    found_label = None\n",
    "    while(found_label == None):\n",
    "        r = randint(0, len(mnist.train.labels)-1)\n",
    "        if(np.argmax(mnist.train.labels[r]) == label_to_find):\n",
    "            if(r not in train_used_indexes):\n",
    "                found_label = r\n",
    "    \n",
    "    mnist_fit_audio_train.append(mnist.train.images[found_label])\n",
    "    mnist_fit_audio_train_l.append(Training_Label[i])\n",
    "    train_used_indexes.append(found_label)\n",
    "\n",
    "for i in range(len(Validation_Label)):\n",
    "    \n",
    "    label_to_find = np.argmax(Validation_Label[i])\n",
    "    found_label = None\n",
    "    while(found_label == None):\n",
    "        r = randint(0, len(mnist.test.labels)-1)\n",
    "        if(np.argmax(mnist.test.labels[r]) == label_to_find):\n",
    "            if(r not in valid_used_indexes):\n",
    "                found_label = r\n",
    "    \n",
    "    mnist_fit_audio_valid.append(mnist.test.images[found_label])\n",
    "    mnist_fit_audio_valid_l.append(Validation_Label[i])\n",
    "    valid_used_indexes.append(found_label)\n",
    "    #mnist.test.labels[found_label] = -1\n",
    "    \n",
    "print(\"Matching labels done\")"
   ]
  },
  {
   "cell_type": "code",
   "execution_count": 5,
   "metadata": {},
   "outputs": [
    {
     "name": "stdout",
     "output_type": "stream",
     "text": [
      "20116\n",
      "3549\n"
     ]
    }
   ],
   "source": [
    "# CONFIRM THE DIMENSIONS ARE THE SAME\n",
    "t_cnt = 0\n",
    "for i in range(len(Training_Label)):\n",
    "    if(np.argmax(Training_Label[i]) == np.argmax(mnist_fit_audio_train_l[i])):\n",
    "        t_cnt += 1\n",
    "print(t_cnt)  \n",
    "v_cnt = 0\n",
    "for i in range(len(Validation_Label)):\n",
    "    if(np.argmax(Validation_Label[i]) == np.argmax(mnist_fit_audio_valid_l[i])):\n",
    "        v_cnt += 1    \n",
    "print(v_cnt)  "
   ]
  },
  {
   "cell_type": "code",
   "execution_count": 6,
   "metadata": {},
   "outputs": [
    {
     "name": "stdout",
     "output_type": "stream",
     "text": [
      "2021\n",
      "331\n"
     ]
    }
   ],
   "source": [
    "# CONFIRM THE DIMENSIONS ARE THE SAME\n",
    "t_cnt = 0\n",
    "for i in range(len(Training_Label)):\n",
    "    if(np.argmax(Training_Label[i]) == 0):\n",
    "        t_cnt += 1\n",
    "print(t_cnt)  \n",
    "v_cnt = 0\n",
    "for i in range(len(Validation_Label)):\n",
    "    if(np.argmax(Validation_Label[i]) ==0):\n",
    "        v_cnt += 1    \n",
    "print(v_cnt)  "
   ]
  },
  {
   "cell_type": "code",
   "execution_count": 7,
   "metadata": {},
   "outputs": [
    {
     "name": "stdout",
     "output_type": "stream",
     "text": [
      "7\n"
     ]
    },
    {
     "data": {
      "image/png": "[encoded data removed]",
      "text/plain": [
       "<matplotlib.figure.Figure at 0x1d5bef49f60>"
      ]
     },
     "metadata": {},
     "output_type": "display_data"
    },
    {
     "name": "stdout",
     "output_type": "stream",
     "text": [
      "1\n"
     ]
    },
    {
     "data": {
      "image/png": "[encoded data removed]",
      "text/plain": [
       "<matplotlib.figure.Figure at 0x1d5eb079c50>"
      ]
     },
     "metadata": {},
     "output_type": "display_data"
    },
    {
     "name": "stdout",
     "output_type": "stream",
     "text": [
      "3\n"
     ]
    },
    {
     "data": {
      "image/png": "[encoded data removed]",
      "text/plain": [
       "<matplotlib.figure.Figure at 0x1d5eb0db978>"
      ]
     },
     "metadata": {},
     "output_type": "display_data"
    }
   ],
   "source": [
    "from matplotlib import pyplot as plt\n",
    "# PRINT OUT SOME OF THE IMAGES FROM MNIST\n",
    "\n",
    "def gen_image(arr):\n",
    "    two_d = (np.reshape(arr, (28, 28)) * 255).astype(np.uint8)\n",
    "    plt.imshow(two_d, interpolation='nearest')\n",
    "    return plt\n",
    "# RANDOM 15 images\n",
    "for i in range(3):\n",
    "    nnn = i #randint(0, len(mnist_fit_audio_train)-1)\n",
    "    print(np.argmax(mnist_fit_audio_train_l[nnn]))\n",
    "    gen_image(mnist_fit_audio_train[nnn]).show()\n"
   ]
  },
  {
   "cell_type": "code",
   "execution_count": null,
   "metadata": {
    "collapsed": true
   },
   "outputs": [],
   "source": []
  },
  {
   "cell_type": "code",
   "execution_count": 8,
   "metadata": {
    "collapsed": true
   },
   "outputs": [],
   "source": [
    "# GENEREATE TEXTUAL DESCRIPTION\n",
    "labels = [0,1,2,3,4,5,6,7,8,9]\n",
    "\n",
    "synonym = [\n",
    "    [\"zero\",\"nil\",\"blank\",\"nada\",\"naught\",\"nix\",\"nobody\",\"nonentity\",\"nullity\",\"void\",\"lowest\", \"ought\",\"zot\"],\n",
    "    [\"one\",\"particular\",\"separate\",\"single\",\"singular\",\"sole\",\"solitary\",\"alone\",\"lone\",\"odd\",\"only\",\"peculiar\",\"unique\"],\n",
    "    [\"two\",\"binary\",\"diploid\",\"binal\",\"bipartisan\",\"bipartite\",\"bisected\",\"distichous\",\"dual\",\"dualistic\"],\n",
    "    [\"three\", \"ternary\",\"third\",\"trilateral\",\"trinitarian\",\"triple\",\"pyramidal\",\"triangular\",\"trigonal\",\"trinal\",\"trinary\",\"tripartite\"],\n",
    "    [\"four\", \"quadruple\",\"quadruplicate\",\"quarter\",\"quadrigeminal\",\"quadripartite\",\"quadrivial\",\"quaternate\"],\n",
    "    [\"five\", \"quintuple\",\"pentagonal\",\"pentamerous\",\"quinary\",\"quinate\",\"quinquennial\"],\n",
    "    [\"six\", \"hexadic\",\"hexagonal\",\"semestral\",\"senary\",\"sextuple\"],\n",
    "    [\"seven\", \"septenary\",\"septemviral\",\"septennial\",\"septuple\"],\n",
    "    [\"eight\", \"octadic\",\"octagonal\",\"octennial\"],\n",
    "    [\"nine\", \"ninth\",\"nonagon\",\"enneadic\",\"novenary\"]\n",
    "]\n",
    "# ALL Numerical phrases\n",
    "#https://www.phrases.org.uk/meanings/number-phrases.html\n",
    "\n",
    "phrases = [\n",
    "    \"A bunch of [NUM]\",\n",
    "    \"A picture is worth a [NUM] words\",\n",
    "    \"A stitch in time saves [NUM]\",\n",
    "    \"For all and [NUM]\",\n",
    "    \"Back to square [NUM]\",\n",
    "    \"Baker's [NUM]\",\n",
    "    \"Behind the [NUM] ball\",\n",
    "    \"Better [NUM]\",\n",
    "    \"Between [NUM] stools\",\n",
    "    \"Catch [NUM]\",\n",
    "    \"Cheap at [NUM] the price\",\n",
    "    \"Cloud [NUM]\",\n",
    "    \"[NUM] Dutch\",\n",
    "    \"[NUM] whammy\",\n",
    "    \"Dressed to the [NUM]\",\n",
    "    \"[NUM] minutes of fame\",\n",
    "    \"[NUM] column\",\n",
    "    \"[NUM] corners of the earth\",\n",
    "    \"Genius is [NUM] percent inspiration\",\n",
    "    \"Goody [NUM]-shoes\",\n",
    "    \"[NUM] inch\",\n",
    "    \"[NUM]-cocked\",\n",
    "    \"[NUM]-hearted\",\n",
    "    \"[NUM] trick\",\n",
    "    \"[NUM] five\",\n",
    "    \"Hung, drawn and [NUM]\",\n",
    "    \"Life begins at [NUM]\",\n",
    "    \"[NUM] days' wonder\",\n",
    "    \"No [NUM] given\",\n",
    "    \"[NUM] points\",\n",
    "    \"On cloud [NUM]\",\n",
    "    \"[NUM] over me\",\n",
    "    \"[NUM] stop shop\",\n",
    "    \"[NUM]-hit wonder\",\n",
    "    \"Richard the [NUM]\",\n",
    "    \"[NUM]-year itch\",\n",
    "    \"The [NUM] degree\",\n",
    "    \"The whole [NUM] yards\",\n",
    "    \"[NUM] time lucky\",\n",
    "    \"[NUM] score \",\n",
    "    \"[NUM] sheets to the wind\",\n",
    "    \"[NUM] strikes and you are out\",\n",
    "    \"[NUM] for skidoo\",\n",
    "    \"[NUM] cents worth\",\n",
    "    \"[NUM] heads are better\",\n",
    "    \"[NUM] tolerance\"\n",
    "]"
   ]
  },
  {
   "cell_type": "code",
   "execution_count": 9,
   "metadata": {
    "collapsed": true
   },
   "outputs": [],
   "source": [
    "\n",
    "import pandas as pd\n",
    "\n",
    "MNIST_TEXT_TRAIN = []\n",
    "MNIST_TEXT_TRAIN_NOISE = []\n",
    "MNIST_TEXT_VALID = []\n",
    "\n",
    "for i in range(len(Training_Label)):\n",
    "    # Pick a random label\n",
    "    r_gen = np.argmax(Training_Label[i])\n",
    "    # Pick a random phrases\n",
    "    s_gen = randint(0,len(phrases)-1)\n",
    "    # pick random word for label\n",
    "    w_gen = randint(0,len(synonym[r_gen])-1)\n",
    "    word = synonym[r_gen][w_gen]\n",
    "    MNIST_TEXT_TRAIN.append( [phrases[s_gen].replace(\"[NUM]\",word), r_gen])\n",
    "\n",
    "for i in range(len(Validation_Label)):\n",
    "    # select data label\n",
    "    r_gen = np.argmax(Validation_Label[i])\n",
    "    # Pick a random phrases\n",
    "    s_gen = randint(0,len(phrases)-1)\n",
    "    # pick random word for label\n",
    "    w_gen = randint(0,len(synonym[r_gen])-1)\n",
    "    word = synonym[r_gen][w_gen]\n",
    "    MNIST_TEXT_VALID.append( [phrases[s_gen].replace(\"[NUM]\",word), r_gen])"
   ]
  },
  {
   "cell_type": "code",
   "execution_count": 10,
   "metadata": {},
   "outputs": [
    {
     "name": "stdout",
     "output_type": "stream",
     "text": [
      "20116\n",
      "3549\n"
     ]
    },
    {
     "data": {
      "text/html": [
       "<div>\n",
       "<style>\n",
       "    .dataframe thead tr:only-child th {\n",
       "        text-align: right;\n",
       "    }\n",
       "\n",
       "    .dataframe thead th {\n",
       "        text-align: left;\n",
       "    }\n",
       "\n",
       "    .dataframe tbody tr th {\n",
       "        vertical-align: top;\n",
       "    }\n",
       "</style>\n",
       "<table border=\"1\" class=\"dataframe\">\n",
       "  <thead>\n",
       "    <tr style=\"text-align: right;\">\n",
       "      <th></th>\n",
       "      <th>text</th>\n",
       "      <th>label</th>\n",
       "    </tr>\n",
       "  </thead>\n",
       "  <tbody>\n",
       "    <tr>\n",
       "      <th>32</th>\n",
       "      <td>void sheets to the wind</td>\n",
       "      <td>0</td>\n",
       "    </tr>\n",
       "    <tr>\n",
       "      <th>45</th>\n",
       "      <td>nil corners of the earth</td>\n",
       "      <td>0</td>\n",
       "    </tr>\n",
       "  </tbody>\n",
       "</table>\n",
       "</div>"
      ],
      "text/plain": [
       "                        text  label\n",
       "32   void sheets to the wind      0\n",
       "45  nil corners of the earth      0"
      ]
     },
     "metadata": {},
     "output_type": "display_data"
    },
    {
     "data": {
      "text/html": [
       "<div>\n",
       "<style>\n",
       "    .dataframe thead tr:only-child th {\n",
       "        text-align: right;\n",
       "    }\n",
       "\n",
       "    .dataframe thead th {\n",
       "        text-align: left;\n",
       "    }\n",
       "\n",
       "    .dataframe tbody tr th {\n",
       "        vertical-align: top;\n",
       "    }\n",
       "</style>\n",
       "<table border=\"1\" class=\"dataframe\">\n",
       "  <thead>\n",
       "    <tr style=\"text-align: right;\">\n",
       "      <th></th>\n",
       "      <th>text</th>\n",
       "      <th>label</th>\n",
       "    </tr>\n",
       "  </thead>\n",
       "  <tbody>\n",
       "    <tr>\n",
       "      <th>1</th>\n",
       "      <td>particular stop shop</td>\n",
       "      <td>1</td>\n",
       "    </tr>\n",
       "    <tr>\n",
       "      <th>14</th>\n",
       "      <td>particular-year itch</td>\n",
       "      <td>1</td>\n",
       "    </tr>\n",
       "  </tbody>\n",
       "</table>\n",
       "</div>"
      ],
      "text/plain": [
       "                    text  label\n",
       "1   particular stop shop      1\n",
       "14  particular-year itch      1"
      ]
     },
     "metadata": {},
     "output_type": "display_data"
    },
    {
     "data": {
      "text/html": [
       "<div>\n",
       "<style>\n",
       "    .dataframe thead tr:only-child th {\n",
       "        text-align: right;\n",
       "    }\n",
       "\n",
       "    .dataframe thead th {\n",
       "        text-align: left;\n",
       "    }\n",
       "\n",
       "    .dataframe tbody tr th {\n",
       "        vertical-align: top;\n",
       "    }\n",
       "</style>\n",
       "<table border=\"1\" class=\"dataframe\">\n",
       "  <thead>\n",
       "    <tr style=\"text-align: right;\">\n",
       "      <th></th>\n",
       "      <th>text</th>\n",
       "      <th>label</th>\n",
       "    </tr>\n",
       "  </thead>\n",
       "  <tbody>\n",
       "    <tr>\n",
       "      <th>7</th>\n",
       "      <td>dualistic tolerance</td>\n",
       "      <td>2</td>\n",
       "    </tr>\n",
       "    <tr>\n",
       "      <th>18</th>\n",
       "      <td>diploid inch</td>\n",
       "      <td>2</td>\n",
       "    </tr>\n",
       "  </tbody>\n",
       "</table>\n",
       "</div>"
      ],
      "text/plain": [
       "                   text  label\n",
       "7   dualistic tolerance      2\n",
       "18         diploid inch      2"
      ]
     },
     "metadata": {},
     "output_type": "display_data"
    },
    {
     "data": {
      "text/html": [
       "<div>\n",
       "<style>\n",
       "    .dataframe thead tr:only-child th {\n",
       "        text-align: right;\n",
       "    }\n",
       "\n",
       "    .dataframe thead th {\n",
       "        text-align: left;\n",
       "    }\n",
       "\n",
       "    .dataframe tbody tr th {\n",
       "        vertical-align: top;\n",
       "    }\n",
       "</style>\n",
       "<table border=\"1\" class=\"dataframe\">\n",
       "  <thead>\n",
       "    <tr style=\"text-align: right;\">\n",
       "      <th></th>\n",
       "      <th>text</th>\n",
       "      <th>label</th>\n",
       "    </tr>\n",
       "  </thead>\n",
       "  <tbody>\n",
       "    <tr>\n",
       "      <th>2</th>\n",
       "      <td>trilateral for skidoo</td>\n",
       "      <td>3</td>\n",
       "    </tr>\n",
       "    <tr>\n",
       "      <th>4</th>\n",
       "      <td>Between trilateral stools</td>\n",
       "      <td>3</td>\n",
       "    </tr>\n",
       "  </tbody>\n",
       "</table>\n",
       "</div>"
      ],
      "text/plain": [
       "                        text  label\n",
       "2      trilateral for skidoo      3\n",
       "4  Between trilateral stools      3"
      ]
     },
     "metadata": {},
     "output_type": "display_data"
    },
    {
     "data": {
      "text/html": [
       "<div>\n",
       "<style>\n",
       "    .dataframe thead tr:only-child th {\n",
       "        text-align: right;\n",
       "    }\n",
       "\n",
       "    .dataframe thead th {\n",
       "        text-align: left;\n",
       "    }\n",
       "\n",
       "    .dataframe tbody tr th {\n",
       "        vertical-align: top;\n",
       "    }\n",
       "</style>\n",
       "<table border=\"1\" class=\"dataframe\">\n",
       "  <thead>\n",
       "    <tr style=\"text-align: right;\">\n",
       "      <th></th>\n",
       "      <th>text</th>\n",
       "      <th>label</th>\n",
       "    </tr>\n",
       "  </thead>\n",
       "  <tbody>\n",
       "    <tr>\n",
       "      <th>3</th>\n",
       "      <td>Richard the quaternate</td>\n",
       "      <td>4</td>\n",
       "    </tr>\n",
       "    <tr>\n",
       "      <th>12</th>\n",
       "      <td>quadrigeminal sheets to the wind</td>\n",
       "      <td>4</td>\n",
       "    </tr>\n",
       "  </tbody>\n",
       "</table>\n",
       "</div>"
      ],
      "text/plain": [
       "                                text  label\n",
       "3             Richard the quaternate      4\n",
       "12  quadrigeminal sheets to the wind      4"
      ]
     },
     "metadata": {},
     "output_type": "display_data"
    },
    {
     "data": {
      "text/html": [
       "<div>\n",
       "<style>\n",
       "    .dataframe thead tr:only-child th {\n",
       "        text-align: right;\n",
       "    }\n",
       "\n",
       "    .dataframe thead th {\n",
       "        text-align: left;\n",
       "    }\n",
       "\n",
       "    .dataframe tbody tr th {\n",
       "        vertical-align: top;\n",
       "    }\n",
       "</style>\n",
       "<table border=\"1\" class=\"dataframe\">\n",
       "  <thead>\n",
       "    <tr style=\"text-align: right;\">\n",
       "      <th></th>\n",
       "      <th>text</th>\n",
       "      <th>label</th>\n",
       "    </tr>\n",
       "  </thead>\n",
       "  <tbody>\n",
       "    <tr>\n",
       "      <th>17</th>\n",
       "      <td>five five</td>\n",
       "      <td>5</td>\n",
       "    </tr>\n",
       "    <tr>\n",
       "      <th>28</th>\n",
       "      <td>quinquennial-year itch</td>\n",
       "      <td>5</td>\n",
       "    </tr>\n",
       "  </tbody>\n",
       "</table>\n",
       "</div>"
      ],
      "text/plain": [
       "                      text  label\n",
       "17               five five      5\n",
       "28  quinquennial-year itch      5"
      ]
     },
     "metadata": {},
     "output_type": "display_data"
    },
    {
     "data": {
      "text/html": [
       "<div>\n",
       "<style>\n",
       "    .dataframe thead tr:only-child th {\n",
       "        text-align: right;\n",
       "    }\n",
       "\n",
       "    .dataframe thead th {\n",
       "        text-align: left;\n",
       "    }\n",
       "\n",
       "    .dataframe tbody tr th {\n",
       "        vertical-align: top;\n",
       "    }\n",
       "</style>\n",
       "<table border=\"1\" class=\"dataframe\">\n",
       "  <thead>\n",
       "    <tr style=\"text-align: right;\">\n",
       "      <th></th>\n",
       "      <th>text</th>\n",
       "      <th>label</th>\n",
       "    </tr>\n",
       "  </thead>\n",
       "  <tbody>\n",
       "    <tr>\n",
       "      <th>10</th>\n",
       "      <td>No hexadic given</td>\n",
       "      <td>6</td>\n",
       "    </tr>\n",
       "    <tr>\n",
       "      <th>23</th>\n",
       "      <td>sextuple five</td>\n",
       "      <td>6</td>\n",
       "    </tr>\n",
       "  </tbody>\n",
       "</table>\n",
       "</div>"
      ],
      "text/plain": [
       "                text  label\n",
       "10  No hexadic given      6\n",
       "23     sextuple five      6"
      ]
     },
     "metadata": {},
     "output_type": "display_data"
    },
    {
     "data": {
      "text/html": [
       "<div>\n",
       "<style>\n",
       "    .dataframe thead tr:only-child th {\n",
       "        text-align: right;\n",
       "    }\n",
       "\n",
       "    .dataframe thead th {\n",
       "        text-align: left;\n",
       "    }\n",
       "\n",
       "    .dataframe tbody tr th {\n",
       "        vertical-align: top;\n",
       "    }\n",
       "</style>\n",
       "<table border=\"1\" class=\"dataframe\">\n",
       "  <thead>\n",
       "    <tr style=\"text-align: right;\">\n",
       "      <th></th>\n",
       "      <th>text</th>\n",
       "      <th>label</th>\n",
       "    </tr>\n",
       "  </thead>\n",
       "  <tbody>\n",
       "    <tr>\n",
       "      <th>0</th>\n",
       "      <td>seven-hearted</td>\n",
       "      <td>7</td>\n",
       "    </tr>\n",
       "    <tr>\n",
       "      <th>5</th>\n",
       "      <td>Hung, drawn and septuple</td>\n",
       "      <td>7</td>\n",
       "    </tr>\n",
       "  </tbody>\n",
       "</table>\n",
       "</div>"
      ],
      "text/plain": [
       "                       text  label\n",
       "0             seven-hearted      7\n",
       "5  Hung, drawn and septuple      7"
      ]
     },
     "metadata": {},
     "output_type": "display_data"
    },
    {
     "data": {
      "text/html": [
       "<div>\n",
       "<style>\n",
       "    .dataframe thead tr:only-child th {\n",
       "        text-align: right;\n",
       "    }\n",
       "\n",
       "    .dataframe thead th {\n",
       "        text-align: left;\n",
       "    }\n",
       "\n",
       "    .dataframe tbody tr th {\n",
       "        vertical-align: top;\n",
       "    }\n",
       "</style>\n",
       "<table border=\"1\" class=\"dataframe\">\n",
       "  <thead>\n",
       "    <tr style=\"text-align: right;\">\n",
       "      <th></th>\n",
       "      <th>text</th>\n",
       "      <th>label</th>\n",
       "    </tr>\n",
       "  </thead>\n",
       "  <tbody>\n",
       "    <tr>\n",
       "      <th>8</th>\n",
       "      <td>octennial stop shop</td>\n",
       "      <td>8</td>\n",
       "    </tr>\n",
       "    <tr>\n",
       "      <th>11</th>\n",
       "      <td>octagonal corners of the earth</td>\n",
       "      <td>8</td>\n",
       "    </tr>\n",
       "  </tbody>\n",
       "</table>\n",
       "</div>"
      ],
      "text/plain": [
       "                              text  label\n",
       "8              octennial stop shop      8\n",
       "11  octagonal corners of the earth      8"
      ]
     },
     "metadata": {},
     "output_type": "display_data"
    },
    {
     "data": {
      "text/html": [
       "<div>\n",
       "<style>\n",
       "    .dataframe thead tr:only-child th {\n",
       "        text-align: right;\n",
       "    }\n",
       "\n",
       "    .dataframe thead th {\n",
       "        text-align: left;\n",
       "    }\n",
       "\n",
       "    .dataframe tbody tr th {\n",
       "        vertical-align: top;\n",
       "    }\n",
       "</style>\n",
       "<table border=\"1\" class=\"dataframe\">\n",
       "  <thead>\n",
       "    <tr style=\"text-align: right;\">\n",
       "      <th></th>\n",
       "      <th>text</th>\n",
       "      <th>label</th>\n",
       "    </tr>\n",
       "  </thead>\n",
       "  <tbody>\n",
       "    <tr>\n",
       "      <th>6</th>\n",
       "      <td>ninth Dutch</td>\n",
       "      <td>9</td>\n",
       "    </tr>\n",
       "    <tr>\n",
       "      <th>29</th>\n",
       "      <td>Better ninth</td>\n",
       "      <td>9</td>\n",
       "    </tr>\n",
       "  </tbody>\n",
       "</table>\n",
       "</div>"
      ],
      "text/plain": [
       "            text  label\n",
       "6    ninth Dutch      9\n",
       "29  Better ninth      9"
      ]
     },
     "metadata": {},
     "output_type": "display_data"
    }
   ],
   "source": [
    "from IPython.display import display, HTML\n",
    "\n",
    "# Set them to dictionary\n",
    "trainData = pd.DataFrame(MNIST_TEXT_TRAIN,columns=['text', 'label'])\n",
    "validData = pd.DataFrame(MNIST_TEXT_VALID,columns=['text', 'label'])\n",
    "\n",
    "# Confirm length of them\n",
    "print(len(trainData))\n",
    "print(len(validData))\n",
    "\n",
    "# Display the first 2 of every class\n",
    "for i in range(10):\n",
    "    display(trainData.loc[trainData['label'] == i][0:2])  "
   ]
  },
  {
   "cell_type": "code",
   "execution_count": 12,
   "metadata": {
    "collapsed": true
   },
   "outputs": [],
   "source": [
    "## STACK AUDIO, IMAGE, AND TEXTUAL DESCRIPTION IN ONE ARRAY\n",
    "# AUDIO, IMAGE, TEXT, ONE-HOT REPRESENTATION, LABEL\n",
    "MNIST_TRAINING_SET = [\n",
    "    Training_Data,           # (20116, 128, 44, 1)\n",
    "    mnist_fit_audio_train,   # (20116, 784)\n",
    "    trainData['text'],       # (20116,)\n",
    "    Training_Label,          # (20116, 10)\n",
    "    trainData['label']       # (20116,)\n",
    "]\n",
    "\n",
    "MNIST_VALIDATION_SET = [\n",
    "    Validation_Data,         # (3549, 128, 44, 1)\n",
    "    mnist_fit_audio_valid,   # (3549, 784)\n",
    "    validData['text'],       # (3549,)\n",
    "    Validation_Label,        # (3549, 10)\n",
    "    validData['label']       # (3549,)\n",
    "]\n"
   ]
  },
  {
   "cell_type": "code",
   "execution_count": null,
   "metadata": {
    "collapsed": true
   },
   "outputs": [],
   "source": []
  },
  {
   "cell_type": "code",
   "execution_count": 17,
   "metadata": {},
   "outputs": [
    {
     "name": "stdout",
     "output_type": "stream",
     "text": [
      "Showing sample number 0 label 3\n"
     ]
    },
    {
     "data": {
      "image/png": "[encoded data removed]",
      "text/plain": [
       "<matplotlib.figure.Figure at 0x1d5b10240b8>"
      ]
     },
     "metadata": {},
     "output_type": "display_data"
    },
    {
     "data": {
      "image/png": "[encoded data removed]",
      "text/plain": [
       "<matplotlib.figure.Figure at 0x1d5ed982d68>"
      ]
     },
     "metadata": {},
     "output_type": "display_data"
    },
    {
     "data": {
      "image/png": "[encoded data removed]",
      "text/plain": [
       "<matplotlib.figure.Figure at 0x1d618bddef0>"
      ]
     },
     "metadata": {},
     "output_type": "display_data"
    },
    {
     "name": "stdout",
     "output_type": "stream",
     "text": [
      "Showing sample number 1 label 9\n"
     ]
    },
    {
     "data": {
      "image/png": "[encoded data removed]",
      "text/plain": [
       "<matplotlib.figure.Figure at 0x1d5eb0e6b00>"
      ]
     },
     "metadata": {},
     "output_type": "display_data"
    },
    {
     "data": {
      "image/png": "[encoded data removed]",
      "text/plain": [
       "<matplotlib.figure.Figure at 0x1d5ed9bfcc0>"
      ]
     },
     "metadata": {},
     "output_type": "display_data"
    },
    {
     "data": {
      "image/png": "[encoded data removed]",
      "text/plain": [
       "<matplotlib.figure.Figure at 0x1d5eda175f8>"
      ]
     },
     "metadata": {},
     "output_type": "display_data"
    },
    {
     "name": "stdout",
     "output_type": "stream",
     "text": [
      "Showing sample number 2 label 8\n"
     ]
    },
    {
     "data": {
      "image/png": "[encoded data removed]",
      "text/plain": [
       "<matplotlib.figure.Figure at 0x1d5edade4e0>"
      ]
     },
     "metadata": {},
     "output_type": "display_data"
    },
    {
     "data": {
      "image/png": "[encoded data removed]",
      "text/plain": [
       "<matplotlib.figure.Figure at 0x1d5ed7d9e80>"
      ]
     },
     "metadata": {},
     "output_type": "display_data"
    },
    {
     "data": {
      "image/png": "[encoded data removed]",
      "text/plain": [
       "<matplotlib.figure.Figure at 0x1d5eb0ea668>"
      ]
     },
     "metadata": {},
     "output_type": "display_data"
    }
   ],
   "source": [
    "# FUNCTION TO DISPLAY A SAMPLE OF AUDIO, IMAGE, AND TEXTUAL DESCRIPTION\n",
    "import librosa.display\n",
    "def plotNormalizedSpectrogram(normalizedSpecto):\n",
    "    plt.figure(figsize=(10, 4))\n",
    "    spectrogramData = normalizedSpecto\n",
    "    librosa.display.specshow(librosa.power_to_db(spectrogramData, ref=np.max), y_axis='mel', fmax=8000, x_axis='time')\n",
    "    plt.colorbar(format='%+2.0f dB')\n",
    "    plt.tight_layout()\n",
    "    plt.show()\n",
    "\n",
    "def plotDescription(dispText):\n",
    "    plt.figure()    \n",
    "    ax = plt.subplot(111)\n",
    "    textArr = dispText.split(' ')\n",
    "    lenTextMid = int(len(textArr) / 2)\n",
    "    \n",
    "    t = plt.text(0.05, 0.6, ' '.join(textArr[0:lenTextMid]), transform=ax.transAxes, fontsize=25)\n",
    "    t = plt.text(0.05, 0.3, ' '.join(textArr[lenTextMid:lenTextMid*2]), transform=ax.transAxes, fontsize=25)\n",
    "\n",
    "    plt.show()\n",
    "    \n",
    "def displaySample(dataSet, n):\n",
    "    audio = np.reshape(dataSet[0][n], [128,44 ])\n",
    "    image = dataSet[1][n]\n",
    "    text = dataSet[2][n]\n",
    "    real_label = dataSet[4][n]\n",
    "\n",
    "    print(\"Showing sample number\",n,\"label\",real_label)\n",
    "    plotNormalizedSpectrogram(audio)\n",
    "    gen_image(image).show()\n",
    "    plotDescription(text)\n",
    "\n",
    "\n",
    "displaySample(MNIST_VALIDATION_SET,0)\n",
    "displaySample(MNIST_VALIDATION_SET,1)\n",
    "displaySample(MNIST_VALIDATION_SET,2)\n",
    "\n"
   ]
  },
  {
   "cell_type": "code",
   "execution_count": 18,
   "metadata": {
    "collapsed": true
   },
   "outputs": [],
   "source": [
    "\n",
    "doSave = False\n",
    "# SAVE MMNIST TRAINING AND VALIDATION\n",
    "if(doSave):\n",
    "    print(\"Saving new data...\")\n",
    "    pickle.dump((MNIST_TRAINING_SET), open('Training_MMNIST.p', 'wb'))\n",
    "    pickle.dump((MNIST_VALIDATION_SET), open('Validation_MMNIST.p', 'wb'))\n",
    "    print(\"Save completed!\")"
   ]
  },
  {
   "cell_type": "code",
   "execution_count": 12,
   "metadata": {
    "collapsed": true
   },
   "outputs": [],
   "source": []
  },
  {
   "cell_type": "code",
   "execution_count": null,
   "metadata": {
    "collapsed": true
   },
   "outputs": [],
   "source": []
  },
  {
   "cell_type": "code",
   "execution_count": 14,
   "metadata": {
    "collapsed": true
   },
   "outputs": [],
   "source": []
  },
  {
   "cell_type": "code",
   "execution_count": null,
   "metadata": {},
   "outputs": [],
   "source": []
  },
  {
   "cell_type": "code",
   "execution_count": null,
   "metadata": {},
   "outputs": [],
   "source": []
  },
  {
   "cell_type": "code",
   "execution_count": null,
   "metadata": {
    "collapsed": true
   },
   "outputs": [],
   "source": []
  }
 ],
 "metadata": {
  "kernelspec": {
   "display_name": "Python 3",
   "language": "python",
   "name": "python3"
  },
  "language_info": {
   "codemirror_mode": {
    "name": "ipython",
    "version": 3
   },
   "file_extension": ".py",
   "mimetype": "text/x-python",
   "name": "python",
   "nbconvert_exporter": "python",
   "pygments_lexer": "ipython3",
   "version": "3.5.4"
  }
 },
 "nbformat": 4,
 "nbformat_minor": 2
}
