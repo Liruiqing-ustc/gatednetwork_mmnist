{
 "cells": [
  {
   "cell_type": "code",
   "execution_count": 1,
   "metadata": {
    "collapsed": true
   },
   "outputs": [],
   "source": [
    "# ALL IMPORTS\n",
    "import os\n",
    "import numpy as np\n",
    "import matplotlib.pyplot as plt\n",
    "from matplotlib import cm\n",
    "import matplotlib.patches as mpatches\n",
    "import tensorflow as tf\n",
    "from random import shuffle\n",
    "import librosa\n",
    "import pickle\n"
   ]
  },
  {
   "cell_type": "code",
   "execution_count": 2,
   "metadata": {
    "collapsed": true
   },
   "outputs": [],
   "source": [
    "# LOAD PROCESSED DATA\n",
    "Training_Data_Load = pickle.load(open('Training_MMNIST.p', mode='rb'))\n",
    "Validation_Data_Load = pickle.load(open('Validation_MMNIST.p', mode='rb'))\n",
    "\n",
    "stackedTraining_Data, stackedTraining_Label = Training_Data_Load[0], Training_Data_Load[3]\n",
    "stackedValidation_Data, stackedValidation_Label = Validation_Data_Load[0], Validation_Data_Load[3]\n"
   ]
  },
  {
   "cell_type": "code",
   "execution_count": null,
   "metadata": {
    "collapsed": true
   },
   "outputs": [],
   "source": []
  },
  {
   "cell_type": "code",
   "execution_count": null,
   "metadata": {
    "collapsed": true
   },
   "outputs": [],
   "source": [
    "# CREATE VARIABLES RELATED TO DATA\n",
    "numberOfClasses = len(stackedTraining_Label[0])\n",
    "batch_size = 64\n",
    "\n",
    "nOfBatches_Train = int(len(stackedTraining_Data)/batch_size)\n",
    "nOfBatches_Valid = int(len(stackedValidation_Data)/batch_size)\n"
   ]
  },
  {
   "cell_type": "code",
   "execution_count": null,
   "metadata": {
    "collapsed": true
   },
   "outputs": [],
   "source": [
    "# STRUCTURE CONV LAYER\n",
    "def conv2D(inputTensor, outputTensor, kernelSize, strideSize):\n",
    "    # CREATE WEIGHTS WITH STD 0.05\n",
    "    weights = tf.Variable(tf.truncated_normal([kernelSize,kernelSize, int(inputTensor.shape[3]), outputTensor],stddev=.05))\n",
    "    # CREATE CONV LAYER\n",
    "    inputTensor = tf.nn.conv2d(inputTensor, weights, strides = [1,strideSize,strideSize,1],padding = 'SAME')\n",
    "    # CREATE BIAS\n",
    "    bias = tf.Variable(tf.zeros([outputTensor]))\n",
    "    # ADD BIAS TO OUTCOME OF CONV\n",
    "    inputTensor = tf.nn.bias_add(inputTensor, bias)\n",
    "    # RETURN ACTIVATION AS RELU\n",
    "    return tf.nn.relu(inputTensor)"
   ]
  },
  {
   "cell_type": "code",
   "execution_count": null,
   "metadata": {
    "collapsed": true
   },
   "outputs": [],
   "source": [
    "# STRUCTURE MAXPOOLING LAYER WITH PADDING = SAME\n",
    "def maxPool(inputTensor, kernelSize, strideSize):\n",
    "    # RETURN MAXPOOL\n",
    "    return tf.nn.max_pool(inputTensor,ksize = [1,kernelSize,kernelSize,1],strides = [1,strideSize,strideSize,1],padding = 'SAME')"
   ]
  },
  {
   "cell_type": "code",
   "execution_count": null,
   "metadata": {
    "collapsed": true
   },
   "outputs": [],
   "source": [
    "# STRUCTURE FULLY CONNECTED LAYER\n",
    "def fcl(inputTensor, outputNodes):\n",
    "    # He initialisation\n",
    "    inputNodes = int(inputTensor.shape[1])\n",
    "    # HE INITIALISATION NOT USED\n",
    "    sig = 0.05 #np.sqrt(2/inputNodes)\n",
    "    # CREATE WEIGHTS\n",
    "    weights = tf.Variable(tf.truncated_normal([inputNodes, outputNodes], stddev=sig))\n",
    "    # CREATE BIAS\n",
    "    bias = tf.Variable(tf.zeros([outputNodes]))\n",
    "    # MULTIPLY INPUT BY WEIGHTS AND ADD BIAS\n",
    "    inputTensor = tf.add(tf.matmul(inputTensor, weights), bias)\n",
    "    # RETURN ACTIVATION AS RELU\n",
    "    return tf.nn.relu(inputTensor)"
   ]
  },
  {
   "cell_type": "code",
   "execution_count": null,
   "metadata": {
    "collapsed": true
   },
   "outputs": [],
   "source": [
    "# STRUCTURE OUTPUT LAYER - THIS IS NEEDED CAUSE LAST LAYER IS SOFTMAX ACTIVATION\n",
    "def output(inputTensor, outputNodes):\n",
    "    inputNodes = int(inputTensor.shape[1])\n",
    "    # CREATE WEIGHTS\n",
    "    weights = tf.Variable(tf.truncated_normal([inputNodes, outputNodes], stddev=0.05))\n",
    "    # CREATE BIAS\n",
    "    bias = tf.Variable(tf.zeros([outputNodes]))\n",
    "    # RETURN MULTIPLIED WEIGHTS, INPUT AND ADDED BIAS\n",
    "    return tf.add(tf.matmul(inputTensor, weights), bias)"
   ]
  },
  {
   "cell_type": "code",
   "execution_count": null,
   "metadata": {
    "collapsed": true
   },
   "outputs": [],
   "source": [
    "# FLATTEN THE OUTPUT OF THE CONV NET TO GET FEATURES AS 1D ARRAY\n",
    "def dense(inputTensor):\n",
    "    inputShape = inputTensor.get_shape().as_list()\n",
    "    return tf.reshape(inputTensor, [-1, inputShape[1] * inputShape[2] * inputShape[3]])"
   ]
  },
  {
   "cell_type": "code",
   "execution_count": null,
   "metadata": {
    "collapsed": true
   },
   "outputs": [],
   "source": [
    "# STRUCTURE THE WHOLE INITIAL CONVOLUTIONAL NET\n",
    "def conv2DNet(inputTensor, keep_prob):\n",
    "    print(\"CONV\")\n",
    "    print(inputTensor.shape)\n",
    "    inputTensor = conv2D(inputTensor, 32, 5,1) \n",
    "    inputTensor = maxPool(inputTensor, 3,2) \n",
    "\n",
    "    print(inputTensor.shape)\n",
    "    inputTensor = conv2D(inputTensor, 64, 4,1) \n",
    "    inputTensor = maxPool(inputTensor, 2,2) \n",
    "    \n",
    "    print(inputTensor.shape)\n",
    "    inputTensor = conv2D(inputTensor, 64, 3,1) \n",
    "    inputTensor = maxPool(inputTensor,  2,2) \n",
    "    \n",
    "    print(inputTensor.shape)\n",
    "    inputTensor = conv2D(inputTensor, 128, 3,1) \n",
    "    inputTensor = maxPool(inputTensor, 2,2) \n",
    "    \n",
    "    print(inputTensor.shape)\n",
    "    inputTensor = conv2D(inputTensor, 256, 3,1) \n",
    "    inputTensor = maxPool(inputTensor,  2,2) \n",
    "    \n",
    "    # ADD DROPOUT\n",
    "    inputTensor = tf.nn.dropout(inputTensor, keep_prob)\n",
    "    # DENSE / FLATTEN\n",
    "    inputTensor = dense(inputTensor)\n",
    "    print(inputTensor.shape)\n",
    "    # RETURN OUTPUT OF CONV\n",
    "    return inputTensor\n",
    "\n",
    "# CREATE THE MLP STRUCTURE\n",
    "def mlp(inputTensor, keep_prop):\n",
    "    print(\"MLP\")\n",
    "    inputTensor = fcl(inputTensor, 1024)\n",
    "    inputTensor = tf.nn.dropout(inputTensor, keep_prob)\n",
    "    print(inputTensor.shape)\n",
    "    inputTensor = fcl(inputTensor, 1024)\n",
    "    inputTensor = tf.nn.dropout(inputTensor, keep_prob)\n",
    "    print(inputTensor.shape)\n",
    "    # RETURN OUTPUT OF MLP\n",
    "    return output(inputTensor, numberOfClasses)\n"
   ]
  },
  {
   "cell_type": "code",
   "execution_count": null,
   "metadata": {
    "collapsed": true
   },
   "outputs": [],
   "source": []
  },
  {
   "cell_type": "code",
   "execution_count": null,
   "metadata": {
    "collapsed": true
   },
   "outputs": [],
   "source": [
    "# THE TRAINING LOOP\n",
    "import time\n",
    "start_time = time.time()\n",
    "\n",
    "print(\"Start Training\")\n",
    "# LR IS DEFAULT ADAM - learning_rate=0.001\n",
    "\n",
    "# ARRAYS FOR GRAPH\n",
    "trainCost = []\n",
    "trainAcc = []\n",
    "validCost = []\n",
    "validAcc = []\n",
    "\n",
    "validation_threshold = [0.7, 0.8, 0.9]\n",
    "\n",
    "\n",
    "# RESET GRAPH/WEIGHTS FOR RETRAINING\n",
    "tf.reset_default_graph()\n",
    "# EPOCHS TO TRAIN FOR\n",
    "epochs = 60\n",
    "# DROPOUT PROPABILITY\n",
    "keep_probability = 0.5\n",
    "\n",
    "# VARIABLES FOR GRAPH\n",
    "# NONE = BATCH SIZE PRESENTED TO GRAPH\n",
    "x = tf.placeholder(tf.float32, [None, 128, 44, 1], name=\"x\")\n",
    "y = tf.placeholder(tf.float32, [None, numberOfClasses], name=\"y\")\n",
    "keep_prob = tf.placeholder(tf.float32, name=\"keep_prob\")\n",
    "\n",
    "# CONVOLUTIONAL LOGIT - SAVED \n",
    "conv_logit = conv2DNet(x, keep_prob)\n",
    "conv_logit = tf.identity(conv_logit, name='convLogits')\n",
    "\n",
    "# MLP LOGIT - SAVED\n",
    "mlp_logit = mlp(conv_logit, keep_prob)\n",
    "mlp_logit = tf.identity(mlp_logit, name='mlpLogits')\n",
    "\n",
    "# COST FUNCTION AND OPTIMIZER INITIALIZED\n",
    "cost = tf.reduce_mean(tf.nn.softmax_cross_entropy_with_logits(logits=mlp_logit, labels=y))\n",
    "optimizer = tf.train.AdamOptimizer().minimize(cost)\n",
    "\n",
    "# PREDICTION AND ACCURACY FUNCTION\n",
    "correct_pred = tf.equal(tf.argmax(mlp_logit, 1), tf.argmax(y, 1))\n",
    "accuracy = tf.reduce_mean(tf.cast(correct_pred, tf.float32), name='accuracy')\n",
    "\n",
    "earlystop_index = 0\n",
    "earlystop_condition = validation_threshold[earlystop_index]\n",
    "epoch_reached = []\n",
    "\n",
    "with tf.Session() as sess:\n",
    "    # INIT ALL VARIABLES\n",
    "    sess.run(tf.global_variables_initializer())\n",
    "    # SET TRAINING DATA\n",
    "    data = stackedTraining_Data\n",
    "    targetVector = stackedTraining_Label\n",
    "    # SET VALIDATION DATA\n",
    "    dataVal = stackedValidation_Data\n",
    "    targetVectorVal = stackedValidation_Label\n",
    "    # SET THE BATCHES\n",
    "    trainBatch = nOfBatches_Train+1\n",
    "    validBatch = nOfBatches_Valid+1\n",
    "    # TRAIN FOR EPOCHS\n",
    "    for epoch in range(1,epochs+1):\n",
    "        print('Start Epoch ' + str(epoch))\n",
    "\n",
    "        # TRAIN \n",
    "        avgLossHolder = 0\n",
    "        avgAccHolder = 0\n",
    "        for i in range(trainBatch): \n",
    "            batch_x = data[i*batch_size:(i+1)*batch_size]\n",
    "            batch_y = targetVector[i*batch_size:(i+1)*batch_size]\n",
    "\n",
    "            # RUN THE OPTIMIZER\n",
    "            sess.run(optimizer, feed_dict={x: batch_x, y: batch_y, keep_prob: keep_probability})\n",
    "            # GET THE LOSS AND ACCURACY\n",
    "            currTrainLoss, currTrainAcc = sess.run([cost,accuracy], feed_dict={x: batch_x, y: batch_y, keep_prob: 1.})\n",
    "            avgLossHolder += currTrainLoss\n",
    "            avgAccHolder += currTrainAcc\n",
    "\n",
    "        avgLossHolder /= trainBatch\n",
    "        avgAccHolder /= trainBatch\n",
    "        trainCost.append(avgLossHolder)\n",
    "        trainAcc.append(avgAccHolder)\n",
    "        print('Loss: {:>8.4f}, Training Accuracy: {:>8.6f}'.format(avgLossHolder, avgAccHolder))\n",
    "\n",
    "        # VALIDATION\n",
    "        avgLossHolder = 0\n",
    "        avgAccHolder = 0\n",
    "\n",
    "        for i in range(validBatch): \n",
    "            batch_x = dataVal[i*batch_size:(i+1)*batch_size]\n",
    "            batch_y = targetVectorVal[i*batch_size:(i+1)*batch_size]\n",
    "            # GET THE LOSS AND ACCURACY\n",
    "            currValidLoss, currValidAcc = sess.run([cost,accuracy], feed_dict={x: batch_x, y: batch_y, keep_prob: 1.})\n",
    "            avgLossHolder += currValidLoss\n",
    "            avgAccHolder += currValidAcc\n",
    "\n",
    "        avgLossHolder /= validBatch\n",
    "        avgAccHolder /= validBatch\n",
    "        validCost.append(avgLossHolder)\n",
    "        validAcc.append(avgAccHolder)\n",
    "\n",
    "        print('Loss: {:>8.4f}, Validation Accuracy: {:>8.6f}'.format(avgLossHolder, avgAccHolder))\n",
    "        print('Epoch ' + str(epoch) + ' done')\n",
    "        print(\"Condition is\",earlystop_condition)\n",
    "        if(avgAccHolder > earlystop_condition or epoch == epochs):\n",
    "\n",
    "            print(\"Threshold reached, feeding samples through for softmax prediction\")\n",
    "            epoch_reached.append(epoch-1)\n",
    "\n",
    "            training_hold = []\n",
    "            training_hold_y = []\n",
    "            validation_hold = []\n",
    "            validation_hold_y = []\n",
    "            \n",
    "            # Training output\n",
    "            for i in range(trainBatch): \n",
    "                batch_x = data[i*batch_size:(i+1)*batch_size]\n",
    "                batch_y = targetVector[i*batch_size:(i+1)*batch_size]\n",
    "                training_batch = sess.run(mlp_logit, feed_dict={x: batch_x, y: batch_y, keep_prob: 1.})\n",
    "\n",
    "                if(len(training_hold) == 0):\n",
    "                    training_hold = training_batch\n",
    "                    training_hold_y = batch_y\n",
    "                else:\n",
    "                    training_hold = np.concatenate((training_hold,training_batch), axis=0)\n",
    "                    training_hold_y = np.concatenate((training_hold_y,batch_y), axis=0)\n",
    "\n",
    "            # Validation output\n",
    "            for i in range(validBatch): \n",
    "                batch_x = dataVal[i*batch_size:(i+1)*batch_size]\n",
    "                batch_y = targetVectorVal[i*batch_size:(i+1)*batch_size]\n",
    "                validation_batch = sess.run(mlp_logit, feed_dict={x: batch_x, y: batch_y, keep_prob: 1.})\n",
    "                if(len(validation_hold) == 0):\n",
    "                    validation_hold = validation_batch\n",
    "                    validation_hold_y = batch_y\n",
    "                else:\n",
    "                    validation_hold = np.concatenate((validation_hold,validation_batch), axis=0)\n",
    "                    validation_hold_y = np.concatenate((validation_hold_y,batch_y), axis=0)     \n",
    "\n",
    "            pickle.dump((training_hold, training_hold_y), open('AC_Training_' +str(earlystop_condition)+'.p', 'wb'))\n",
    "            pickle.dump((validation_hold, validation_hold_y), open('AC_Validation_'+str(earlystop_condition)+'.p', 'wb'))\n",
    "            print(\"Done saving AC\",earlystop_condition)\n",
    "            \n",
    "            # See if we should keep going, if there are more thresholds to meet\n",
    "            if(earlystop_index < len(validation_threshold)-1):\n",
    "                # keep going, reset condition\n",
    "                earlystop_index += 1\n",
    "                earlystop_condition = validation_threshold[earlystop_index]\n",
    "                print(\"Next condition:\",earlystop_condition)\n",
    "            else:\n",
    "                print(\"All conditions saved\")\n",
    "                if(epoch == epochs):\n",
    "                    print(\"Saved on last epoch\")\n",
    "                break\n",
    "    print(\"Training done - took %s seconds\" % (time.time() - start_time)) \n",
    "    # SAVE THE MODEL\n",
    "    #saver = tf.train.Saver()\n",
    "    #save_path = saver.save(sess, './audio_classificationMNIST')\n",
    "    # SAVE THE DATAFILE\n"
   ]
  },
  {
   "cell_type": "code",
   "execution_count": null,
   "metadata": {
    "collapsed": true
   },
   "outputs": [],
   "source": []
  },
  {
   "cell_type": "code",
   "execution_count": 3,
   "metadata": {},
   "outputs": [
    {
     "data": {
      "image/png": "[encoded data removed]",
      "text/plain": [
       "<matplotlib.figure.Figure at 0x2b13d2d0e48>"
      ]
     },
     "metadata": {},
     "output_type": "display_data"
    }
   ],
   "source": [
    "# PLOT THE TRAINING AND MARK WHERE A SOFTMAX PREDICTION WAS SAVED\n",
    "plt.figure(2)\n",
    "plt.plot(trainAcc, color='b', alpha=1)\n",
    "plt.plot(validAcc, color='orange', alpha=1)\n",
    "\n",
    "for epoch in epoch_reached:\n",
    "    plt.plot([epoch, epoch], [1, 0.2], 'k-', color='r', alpha=0.2, lw=2)\n",
    "\n",
    "plt.title('AC Training')\n",
    "plt.xlabel(\"Epoch\")\n",
    "plt.ylabel(\"Accuracy\")\n",
    "plt.gca().set_yticklabels(['{:.0f}%'.format(x*100) for x in plt.gca().get_yticks()]) \n",
    "blue = mpatches.Patch(color='b', label='Training Accuracy')\n",
    "orange = mpatches.Patch(color='orange', label='Validation Accuracy')\n",
    "plt.legend(handles=[blue,orange])\n",
    "plt.show()"
   ]
  },
  {
   "cell_type": "code",
   "execution_count": 2,
   "metadata": {},
   "outputs": [
    {
     "name": "stdout",
     "output_type": "stream",
     "text": [
      "Accuracy of AC 0.7\n",
      "trainExamples 20116\n",
      "trainAcc 0.7317061045933585\n",
      "validExamples 3549\n",
      "validAcc 0.7094956325725557\n",
      "\n",
      "Accuracy of AC 0.8\n",
      "trainExamples 20116\n",
      "trainAcc 0.8368462915092464\n",
      "validExamples 3549\n",
      "validAcc 0.8140321217244294\n",
      "\n",
      "Accuracy of AC 0.9\n",
      "trainExamples 20116\n",
      "trainAcc 0.9457645655199841\n",
      "validExamples 3549\n",
      "validAcc 0.8940546632854325\n",
      "\n"
     ]
    }
   ],
   "source": [
    "# PRINT THE ACCURACY OF ALL AUDIO SOFTMAX PREDICTIONS\n",
    "\n",
    "def confirmAccuracy(per):\n",
    "    print(\"Accuracy of AC\",per)\n",
    "    \n",
    "    td, tl = pickle.load(open('AC_Training_'+per+'.p', mode='rb'))\n",
    "    vd, vl = pickle.load(open('AC_Validation_'+per+'.p', mode='rb'))\n",
    "    \n",
    "    tcnt = 0\n",
    "    for i in range(len(td)):\n",
    "        if(np.argmax(td[i]) == np.argmax(tl[i])):\n",
    "            tcnt += 1\n",
    "    print(\"trainExamples\",len(td))\n",
    "    print(\"trainAcc\",tcnt/len(td))\n",
    "    vcnt = 0\n",
    "    for i in range(len(vd)):\n",
    "        if(np.argmax(vd[i]) == np.argmax(vl[i])):\n",
    "            vcnt += 1\n",
    "    print(\"validExamples\",len(vd))\n",
    "    print(\"validAcc\",vcnt/len(vd))\n",
    "    print(\"\")\n",
    "\n",
    "    \n",
    "confirmAccuracy(\"0.7\")    \n",
    "confirmAccuracy(\"0.8\")    \n",
    "confirmAccuracy(\"0.9\")"
   ]
  },
  {
   "cell_type": "code",
   "execution_count": null,
   "metadata": {
    "collapsed": true
   },
   "outputs": [],
   "source": []
  },
  {
   "cell_type": "code",
   "execution_count": null,
   "metadata": {
    "collapsed": true
   },
   "outputs": [],
   "source": []
  },
  {
   "cell_type": "code",
   "execution_count": null,
   "metadata": {
    "collapsed": true
   },
   "outputs": [],
   "source": []
  },
  {
   "cell_type": "code",
   "execution_count": null,
   "metadata": {
    "collapsed": true
   },
   "outputs": [],
   "source": []
  },
  {
   "cell_type": "code",
   "execution_count": null,
   "metadata": {
    "collapsed": true
   },
   "outputs": [],
   "source": []
  },
  {
   "cell_type": "code",
   "execution_count": null,
   "metadata": {
    "collapsed": true
   },
   "outputs": [],
   "source": []
  }
 ],
 "metadata": {
  "kernelspec": {
   "display_name": "Python 3",
   "language": "python",
   "name": "python3"
  },
  "language_info": {
   "codemirror_mode": {
    "name": "ipython",
    "version": 3
   },
   "file_extension": ".py",
   "mimetype": "text/x-python",
   "name": "python",
   "nbconvert_exporter": "python",
   "pygments_lexer": "ipython3",
   "version": "3.5.4"
  },
  "latex_envs": {
   "LaTeX_envs_menu_present": true,
   "bibliofile": "biblio.bib",
   "cite_by": "apalike",
   "current_citInitial": 1,
   "eqLabelWithNumbers": true,
   "eqNumInitial": 1,
   "labels_anchors": false,
   "latex_user_defs": false,
   "report_style_numbering": false,
   "user_envs_cfg": false
  }
 },
 "nbformat": 4,
 "nbformat_minor": 2
}
